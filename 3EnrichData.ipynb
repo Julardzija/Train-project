{
 "cells": [
  {
   "cell_type": "code",
   "execution_count": null,
   "id": "380d40fe",
   "metadata": {
    "lines_to_next_cell": 0
   },
   "outputs": [],
   "source": [
    "\n",
    "\"\"\"\n",
    "Project 5: Railway Accidents\n",
    "part 3: enriching data \n",
    "\n",
    "Objective for this code (extra):\n",
    "    Data enrichment: We have several train accident for which we do not have the coordinations for.\n",
    "    This code below is for finding the coordination when given a certain location\n",
    "    Not all will be found as we had some errors that we could not solve.\n",
    "\"\"\""
   ]
  },
  {
   "cell_type": "code",
   "execution_count": null,
   "id": "d4fe1f01",
   "metadata": {
    "title": "Import"
   },
   "outputs": [],
   "source": [
    "import numpy as np\n",
    "import pandas as pd\n",
    "# Importing geopy library\n",
    "from geopy.geocoders import Nominatim\n",
    "# Import sleep to slow down the processing as we can only use the service within a limited window.\n",
    "from time import sleep\n",
    "\n",
    "# Open the csv file that we have imported from CleaningTrainDataScript.py\n",
    "df = pd.read_csv('CleanData.csv', encoding = 'utf-8')"
   ]
  },
  {
   "cell_type": "code",
   "execution_count": null,
   "id": "d4fcf74b",
   "metadata": {
    "lines_to_next_cell": 0
   },
   "outputs": [],
   "source": [
    "#First we are calling the Nominatim tool, which is the tool to help us with this method.\n",
    "geolocator = Nominatim(user_agent=\"GetLoc\")\n",
    "\n",
    "#Then we create three new columns to append our new location and coordinates\n",
    "loc = []\n",
    "lat = []\n",
    "long = []\n",
    "\n",
    "\n",
    "#Here we do a loop for each entry in location. We made two try excepts since we got a few\n",
    "#errors with some locations which we could not solve. By creating this code we can at least\n",
    "#know which locations were giving us problems and try them out separately\n",
    "#Some ended up working when tested outside of the loop, most did not.\n",
    "#Error 1 = the location could not be found by Geopy\n",
    "#Error 2 = timeout and GeocoderUnavailable: HTTPSConnectionPool(host='nominatim.openstreetmap.org', \n",
    "#port=443): Max retries exceeded with url\n",
    "#Error 2 seems to be because it is only allowed to retrieve 1 location per second\n",
    "#This is why we have sleep(1) as it means it waits one second before it continues\n",
    "#for this reason, this code takes a long time to run.\n",
    "for i in df[\"Location\"]:  \n",
    "    try:\n",
    "        try:\n",
    "            location = geolocator.geocode(i)\n",
    "            loc.append(location.address)\n",
    "            lat.append(location.latitude)\n",
    "            long.append(location.longitude)\n",
    "            sleep(1.1)\n",
    "        except AttributeError:\n",
    "            loc.append(\"Error 1\")\n",
    "            lat.append(\"Error 1\")\n",
    "            long.append(\"Error 1\")\n",
    "            sleep(1.1)\n",
    "    except:\n",
    "        loc.append(\"Error 2\")\n",
    "        lat.append(\"Error 2\")\n",
    "        long.append(\"Error 2\")\n",
    "        sleep(1.1)"
   ]
  },
  {
   "cell_type": "code",
   "execution_count": null,
   "id": "cf133972",
   "metadata": {},
   "outputs": [],
   "source": [
    "# Add them into our dataframe\n",
    "df[\"Locnew\"] = loc\n",
    "df[\"Latnew\"] = lat\n",
    "df[\"Longnew\"] = long\n",
    "\n",
    "# Conditional statement. If latitude row is any value other than NAN then let that same row for\n",
    "# Latnew column be equal to that exact value. This is to use our existing coordinates we got\n",
    "# From the webscraping. We are combining them in the new column\n",
    "# Afterwards we remove the two errors and let them be empty NAN entries\n",
    "# Note: We make it a string here to easier deal with it when we want to combine it.\n",
    "df.loc[df.Latitude.notnull(), \"Latnew\"] = df[\"Latitude\"]\n",
    "df[\"Latnew\"] = df[\"Latnew\"].apply(str)\n",
    "df.loc[df[\"Latnew\"] == \"Error 1\", \"Latnew\"] = np.nan\n",
    "df.loc[df[\"Latnew\"] == \"Error 2\", \"Latnew\"] = np.nan\n",
    "# Same thing for Longitude and longnew\n",
    "df.loc[df.Longitude.notnull(), \"Longnew\"] = df[\"Longitude\"]\n",
    "df[\"Longnew\"] = df[\"Longnew\"].apply(str)\n",
    "df.loc[df[\"Longnew\"] == \"Error 1\", \"Longnew\"] = np.nan\n",
    "df.loc[df[\"Longnew\"] == \"Error 2\", \"Longnew\"] = np.nan\n",
    "\n",
    "# Now we can use these columns as the new Longitude and Latitude and remove the other ones\n",
    "df[\"Latitude\"] = df[\"Latnew\"]\n",
    "df[\"Longitude\"] = df[\"Longnew\"]\n",
    "\n",
    "# Finally we want to create new coordinates with the new info, while still keeping the\n",
    "# location info for the coordinates that we do not have\n",
    "df.loc[df.Longnew.notnull(), \"Coordinates\"] = df[\"Latnew\"] + ';' + df[\"Longnew\"]\n",
    "\n",
    "# We wanna keep the new locations we got from Geopy since it is more clear and precise info\n",
    "# First we make the errors disappear, then we make the condition that if there is a value other\n",
    "# than NAN then for that row the new  location is the locnew location.\n",
    "df.loc[df[\"Locnew\"] == \"Error 1\", \"Locnew\"] = np.nan\n",
    "df.loc[df[\"Locnew\"] == \"Error 2\", \"Locnew\"] = np.nan\n",
    "df.loc[df.Locnew.notnull(), \"Location\"] = df[\"Locnew\"]"
   ]
  },
  {
   "cell_type": "code",
   "execution_count": null,
   "id": "61c25d32",
   "metadata": {
    "lines_to_next_cell": 3
   },
   "outputs": [],
   "source": [
    "# finally we drop the three new columns we got from CleaningLocation.py\n",
    "df = df.drop(columns=[\"Latnew\"])\n",
    "df = df.drop(columns=[\"Longnew\"])\n",
    "df = df.drop(columns=[\"Locnew\"])\n",
    "\n",
    "# Finally we create the last csv before visualising\n",
    "df.to_csv(\"DataForVisualising.csv\", index=False, encoding='utf-8')"
   ]
  }
 ],
 "metadata": {
  "jupytext": {
   "cell_metadata_filter": "title,-all",
   "encoding": "# -*- coding: utf-8 -*-",
   "main_language": "python",
   "notebook_metadata_filter": "-all"
  }
 },
 "nbformat": 4,
 "nbformat_minor": 5
}
